{
 "cells": [
  {
   "cell_type": "markdown",
   "metadata": {},
   "source": [
    "### Course Scheduling System\n",
    "#### CSP and Propositional Logic"
   ]
  },
  {
   "cell_type": "code",
   "execution_count": 16,
   "metadata": {},
   "outputs": [
    {
     "name": "stdout",
     "output_type": "stream",
     "text": [
      "Requirement already satisfied: python-constraint in c:\\users\\tilin\\anaconda3\\lib\\site-packages (1.4.0)\n",
      "Note: you may need to restart the kernel to use updated packages.\n"
     ]
    }
   ],
   "source": [
    "pip install python-constraint"
   ]
  },
  {
   "cell_type": "markdown",
   "metadata": {
    "id": "RJ5KClTztJ7n"
   },
   "source": [
    "## Part I - CSP in Python for Course Scheduling"
   ]
  },
  {
   "cell_type": "markdown",
   "metadata": {
    "id": "tx8jM0QMtJ7u"
   },
   "source": [
    "### <b><ins>CSP Definition</ins></b>"
   ]
  },
  {
   "cell_type": "markdown",
   "metadata": {
    "id": "J0OEsYlftJ7w"
   },
   "source": [
    "<b>Variables and Domains:</b>\n",
    "- There are two professors: `[\"Tim\", \"Fred\"]`\n",
    "\n",
    "- There are four courses: `[\"CMSC471\", \"CMSC478\", \"CMSC473\", \"CMSC491\"]`\n",
    "\n",
    "- There are two available classrooms: `[\"ITE227\", \"ITE233\"]`\n",
    "\n",
    "- There are four available days: `[\"Mon\", \"Wed\", \"Tue\", \"Thu\"]`\n",
    "\n",
    "- There are five time slots: `[\"10:00\", \"11:30\", \"1:00\", \"4:00\", \"5:30\"]`\n",
    "\n",
    "<b>Constraints:</b>\n",
    "\n",
    "- Day Constraint: Tim does NOT teach on Mon and Wed.\n",
    "\n",
    "- Time Constraint: Tim teaches only at 10:00 AND Fred does NOT teach at 10:00 and 11:30.\n",
    "\n",
    "- Classroom Constraint: ITE227 is NOT available on Mon and ITE233 is NOT available on Tue.\n",
    "\n",
    "- Capacity Constraint: ITE233 does NOT fit for CMSC478 and CMSC491 - so it's NOT used for those courses.\n",
    "\n",
    "- Course Constraint: Fred does NOT teach CMSC473 and CMSC491 and Tim does NOT teach CMSC478."
   ]
  },
  {
   "cell_type": "code",
   "execution_count": 59,
   "metadata": {
    "id": "t587xYoqtJ7y"
   },
   "outputs": [
    {
     "name": "stdout",
     "output_type": "stream",
     "text": [
      "35 assignments found:\n",
      "0: {'professor': 'Fred', 'classroom': 'ITE233', 'course': 'CMSC471', 'day': 'Thu', 'time': '5:30'}\n",
      "1: {'professor': 'Fred', 'classroom': 'ITE233', 'course': 'CMSC471', 'day': 'Thu', 'time': '4:00'}\n",
      "2: {'professor': 'Fred', 'classroom': 'ITE233', 'course': 'CMSC471', 'day': 'Thu', 'time': '1:00'}\n",
      "3: {'professor': 'Fred', 'classroom': 'ITE233', 'course': 'CMSC471', 'day': 'Wed', 'time': '5:30'}\n",
      "4: {'professor': 'Fred', 'classroom': 'ITE233', 'course': 'CMSC471', 'day': 'Wed', 'time': '4:00'}\n",
      "5: {'professor': 'Fred', 'classroom': 'ITE233', 'course': 'CMSC471', 'day': 'Wed', 'time': '1:00'}\n",
      "6: {'professor': 'Fred', 'classroom': 'ITE233', 'course': 'CMSC471', 'day': 'Mon', 'time': '5:30'}\n",
      "7: {'professor': 'Fred', 'classroom': 'ITE233', 'course': 'CMSC471', 'day': 'Mon', 'time': '4:00'}\n",
      "8: {'professor': 'Fred', 'classroom': 'ITE233', 'course': 'CMSC471', 'day': 'Mon', 'time': '1:00'}\n",
      "9: {'professor': 'Fred', 'classroom': 'ITE227', 'course': 'CMSC478', 'day': 'Tue', 'time': '5:30'}\n",
      "10: {'professor': 'Fred', 'classroom': 'ITE227', 'course': 'CMSC478', 'day': 'Tue', 'time': '4:00'}\n",
      "11: {'professor': 'Fred', 'classroom': 'ITE227', 'course': 'CMSC478', 'day': 'Tue', 'time': '1:00'}\n",
      "12: {'professor': 'Fred', 'classroom': 'ITE227', 'course': 'CMSC478', 'day': 'Thu', 'time': '5:30'}\n",
      "13: {'professor': 'Fred', 'classroom': 'ITE227', 'course': 'CMSC478', 'day': 'Thu', 'time': '4:00'}\n",
      "14: {'professor': 'Fred', 'classroom': 'ITE227', 'course': 'CMSC478', 'day': 'Thu', 'time': '1:00'}\n",
      "15: {'professor': 'Fred', 'classroom': 'ITE227', 'course': 'CMSC478', 'day': 'Wed', 'time': '5:30'}\n",
      "16: {'professor': 'Fred', 'classroom': 'ITE227', 'course': 'CMSC478', 'day': 'Wed', 'time': '4:00'}\n",
      "17: {'professor': 'Fred', 'classroom': 'ITE227', 'course': 'CMSC478', 'day': 'Wed', 'time': '1:00'}\n",
      "18: {'professor': 'Fred', 'classroom': 'ITE227', 'course': 'CMSC471', 'day': 'Tue', 'time': '5:30'}\n",
      "19: {'professor': 'Fred', 'classroom': 'ITE227', 'course': 'CMSC471', 'day': 'Tue', 'time': '4:00'}\n",
      "20: {'professor': 'Fred', 'classroom': 'ITE227', 'course': 'CMSC471', 'day': 'Tue', 'time': '1:00'}\n",
      "21: {'professor': 'Fred', 'classroom': 'ITE227', 'course': 'CMSC471', 'day': 'Thu', 'time': '5:30'}\n",
      "22: {'professor': 'Fred', 'classroom': 'ITE227', 'course': 'CMSC471', 'day': 'Thu', 'time': '4:00'}\n",
      "23: {'professor': 'Fred', 'classroom': 'ITE227', 'course': 'CMSC471', 'day': 'Thu', 'time': '1:00'}\n",
      "24: {'professor': 'Fred', 'classroom': 'ITE227', 'course': 'CMSC471', 'day': 'Wed', 'time': '5:30'}\n",
      "25: {'professor': 'Fred', 'classroom': 'ITE227', 'course': 'CMSC471', 'day': 'Wed', 'time': '4:00'}\n",
      "26: {'professor': 'Fred', 'classroom': 'ITE227', 'course': 'CMSC471', 'day': 'Wed', 'time': '1:00'}\n",
      "27: {'professor': 'Tim', 'classroom': 'ITE233', 'day': 'Thu', 'course': 'CMSC473', 'time': '10:00'}\n",
      "28: {'professor': 'Tim', 'classroom': 'ITE233', 'day': 'Thu', 'course': 'CMSC471', 'time': '10:00'}\n",
      "29: {'professor': 'Tim', 'classroom': 'ITE227', 'day': 'Tue', 'course': 'CMSC491', 'time': '10:00'}\n",
      "30: {'professor': 'Tim', 'classroom': 'ITE227', 'day': 'Tue', 'course': 'CMSC473', 'time': '10:00'}\n",
      "31: {'professor': 'Tim', 'classroom': 'ITE227', 'day': 'Tue', 'course': 'CMSC471', 'time': '10:00'}\n",
      "32: {'professor': 'Tim', 'classroom': 'ITE227', 'day': 'Thu', 'course': 'CMSC491', 'time': '10:00'}\n",
      "33: {'professor': 'Tim', 'classroom': 'ITE227', 'day': 'Thu', 'course': 'CMSC473', 'time': '10:00'}\n",
      "34: {'professor': 'Tim', 'classroom': 'ITE227', 'day': 'Thu', 'course': 'CMSC471', 'time': '10:00'}\n"
     ]
    }
   ],
   "source": [
    "# Import constraint\n",
    "from constraint import *\n",
    "\n",
    "# Create a dictionary to hold the variables and domains of professors, courses, classrooms, days and times\n",
    "varDomainDict = {\"professor\" : [\"Tim\", \"Fred\"], \"course\" : [\"CMSC471\", \"CMSC478\", \"CMSC473\", \"CMSC491\"],\n",
    "                        \"classroom\" : [\"ITE227\", \"ITE233\"], \"day\" : [\"Mon\", \"Wed\", \"Tue\", \"Thu\"],\n",
    "                        \"time\" : [\"10:00\", \"11:30\", \"1:00\", \"4:00\", \"5:30\"]}\n",
    "\n",
    "# Create a constraint satisfaction problem\n",
    "csp = Problem()\n",
    "\n",
    "# Add the dict key, value as Variable and their domains to problem\n",
    "for key, value in varDomainDict.items():\n",
    "    csp.addVariable(key, value)\n",
    "\n",
    "# Functions to implement constraints - NO PARTIAL CREDIT: You must implement everything correctly!\n",
    "# You must use implies function for all constraints\n",
    "# /---------------------------------------------------------------\n",
    "\n",
    "# Function implies takes p and q, if p => q is true, it returns true - Hint: Use implication elimination\n",
    "def implies(p, q):\n",
    "    if(p and q) or (not p and q) or (not p and not q):\n",
    "        return True\n",
    "    elif(p and not q):\n",
    "        return False\n",
    "\n",
    "# Tim does not teach on Mon and Wed - This constraint is provided to help you write others\n",
    "def dayConstraint(professor, day):\n",
    "    if implies(professor == \"Tim\", (day != \"Mon\" and day != \"Wed\")):\n",
    "        return True\n",
    "\n",
    "# Tim teaches only at 10:00 AND Fred does not teach at 10:00 and 11:30\n",
    "def timeConstraint(professor, time):\n",
    "    if implies(professor == \"Tim\", time == \"10:00\") and implies(professor == \"Fred\", (time != \"11:30\" and time != \"10:00\")):\n",
    "        return True\n",
    "    \n",
    "# ITE227 is not available on Mon AND ITE233 is not available on Tue\n",
    "def classroomConstraint(classroom, day):\n",
    "    if implies(classroom == \"ITE227\", day != \"Mon\") and implies(classroom == \"ITE233\", day != \"Tue\"):\n",
    "        return True\n",
    "    \n",
    "# ITE233 does not fit for CMSC478 AND CMSC491 - so it's not used for those courses!\n",
    "def capacityConstraint(classroom, course):\n",
    "    if implies(classroom == 'ITE233', (course != 'CMSC478' and course != 'CMSC491')):\n",
    "        return True\n",
    "\n",
    "# Fred doesn't teach CMSC473 and CMSC491 AND Tim doesn't teach CMSC478\n",
    "def courseConstraint(professor, course):\n",
    "    if implies(professor == \"Fred\", (course != \"CMSC473\" and course != \"CMSC491\")) and implies(professor == \"Tim\", course != \"CMSC478\"):\n",
    "        return True\n",
    "\n",
    "# /---------------------------------------------------------------\n",
    "\n",
    "# addConstraint dayConstraint - This one is provided to help you write others\n",
    "csp.addConstraint(dayConstraint, ['professor', 'day'])\n",
    "\n",
    "# Add all other four constraints (4 lines)\n",
    "csp.addConstraint(timeConstraint, ['professor', 'time'])\n",
    "csp.addConstraint(classroomConstraint, ['classroom', 'day'])\n",
    "csp.addConstraint(capacityConstraint, ['classroom', 'course'])\n",
    "csp.addConstraint(courseConstraint, ['professor', 'course'])\n",
    "\n",
    "# Get the solution and print it\n",
    "solution = csp.getSolutions()\n",
    "print(len(solution), \"assignments found:\")\n",
    "print('\\n'.join('{}: {}'.format(*k) for k in enumerate(solution))) "
   ]
  },
  {
   "cell_type": "markdown",
   "metadata": {
    "id": "Wof63zwztJ77"
   },
   "source": [
    "## Part II - Propositional Logic"
   ]
  },
  {
   "cell_type": "markdown",
   "metadata": {
    "id": "nGTdy2Z5tJ78"
   },
   "source": [
    "Answer the following questions on Propositional Logic.\n",
    "\n",
    "<b>Q3</b> - State whether each of the following propositional logic sentences is <b>satisfiable</b> (possibly true or false), <b>unsatisfiable</b> (always false F), or <b>valid</b> (always true T).\n",
    "\n",
    "[a] $\\neg (DEMOCRAT \\lor REPUBLICAN)$<br>\n",
    "Answer [a]: Satisfiable because we get one case of false and the remaining to be true.\n",
    "\n",
    "[b] $\\neg STUDY \\implies FAIL$<br>\n",
    "Answer [b]: Satisfiable because we get one case of false and the remaining to be true.\n",
    "\n",
    "[c] $(P \\land F) \\land T$<br>\n",
    "Answer [c]: Unsatisfiable because we only get false.\n",
    "\n",
    "\n",
    "[d] $(\\neg P \\land Q) \\implies Q$ <br>\n",
    "Answer [d]: Valid because we will only get true.\n",
    "\n",
    "**Show your work using LaTeX for [d].**<br>\n",
    "When $P = T$ and $Q = T$, then $(\\neg P) = F$, and $(\\neg P \\land Q) = F$, so $(\\neg P \\land Q) \\implies Q = T$. <br> \n",
    "When $P = T$ and $Q = F$, then $(\\neg P) = F$, and $(\\neg P \\land Q) = F$, so $(\\neg P \\land Q) \\implies Q = T$. <br>\n",
    "When $P = F$ and $Q = T$, then $(\\neg P) = T$, and $(\\neg P \\land Q) = T$, so $(\\neg P \\land Q) \\implies Q = T$. <br>\n",
    "When $P = F$ and $Q = F$, then $(\\neg P) = T$, and $(\\neg P \\land Q) = F$, so $(\\neg P \\land Q) \\implies Q = T$. <br>\n",
    "\n",
    "[e] $(\\neg Q \\implies \\neg P) \\implies (P \\implies Q)$ <br>\n",
    "Answer [e]: Valid because we will only get true. \n",
    "\n",
    "**Show your work using LaTeX for [e].**<br>\n",
    "When $Q = T$ ane $P = T$, then $(\\neg Q) = F$, $(\\neg P) = F$, $(\\neg Q \\land \\neg P) = F$, and $(P \\implies Q) = T$, so $(\\neg Q \\implies \\neg P) \\implies (P \\implies Q) = T$. <br>\n",
    "When $Q = T$ ane $P = F$, then $(\\neg Q) = F$, $(\\neg P) = T$, $(\\neg Q \\land \\neg P) = F$, and $(P \\implies Q) = T$, so $(\\neg Q \\implies \\neg P) \\implies (P \\implies Q) = T$. <br>\n",
    "When $Q = F$ ane $P = T$, then $(\\neg Q) = T$, $(\\neg P) = F$, $(\\neg Q \\land \\neg P) = F$, and $(P \\implies Q) = F$, so $(\\neg Q \\implies \\neg P) \\implies (P \\implies Q) = T$. <br>\n",
    "When $Q = F$ ane $P = F$, then $(\\neg Q) = T$, $(\\neg P) = T$, $(\\neg Q \\land \\neg P) = T$, and $(P \\implies Q) = T$, so $(\\neg Q \\implies \\neg P) \\implies (P \\implies Q) = T$. <br>\n",
    "\n",
    "<b>Q4</b> - Convert the following sentences to CNF.\n",
    "\n",
    "[f] $(P \\Rightarrow Q) \\implies (U \\land V)$\n",
    "$\\equiv$ $(P \\lor U) \\land (P \\lor V) \\land (\\neg Q \\lor U) \\land (\\neg Q \\lor V)$ <br>\n",
    "\n",
    "Steps: <br>\n",
    "$(\\neg P \\lor Q) \\implies (U \\land V) = \\neg (\\neg P \\lor Q) \\lor (U \\land V)$ <br>\n",
    "$(P \\land \\neg Q)\\lor (U \\land V)$ <br>\n",
    "$(P \\lor U) \\land (P \\lor V) \\land (\\neg Q \\lor U) \\land (\\neg Q \\lor V)$\n",
    "\n",
    "[g] $(P \\lor Q) \\land (R \\iff S)$\n",
    "$\\equiv$ $(P \\lor Q) \\land (\\neg S \\lor R) \\land (\\neg R \\lor S)$\n",
    "\n",
    "Steps: <br>\n",
    "$(P \\lor Q) \\land (R \\implies S) \\land (S \\implies R)$ <br>\n",
    "$(P \\lor Q) \\land (\\neg R \\lor S) \\land (\\neg S \\lor R)$ <br>\n",
    "\n",
    "[h] $(P \\iff Q) \\land (R \\implies S)$\n",
    "$\\equiv$ $(\\neg Q \\lor P) \\land (\\neg P \\lor Q) \\land (\\neg S \\lor R) \\land (\\neg R \\lor S)$\n",
    "\n",
    "Steps: <br>\n",
    "$(Q \\implies P) \\land (P \\implies Q) \\land (S \\implies R) \\land (R \\implies S)$ <br>\n",
    "$(\\neg Q \\lor P) \\land (\\neg P \\lor Q) \\land (\\neg S \\lor R) \\land (\\neg R \\lor S)$ <br>\n",
    "\n"
   ]
  }
 ],
 "metadata": {
  "colab": {
   "name": "AI-Assignment-2-F21.ipynb",
   "provenance": []
  },
  "kernelspec": {
   "display_name": "Python 3",
   "language": "python",
   "name": "python3"
  },
  "language_info": {
   "codemirror_mode": {
    "name": "ipython",
    "version": 3
   },
   "file_extension": ".py",
   "mimetype": "text/x-python",
   "name": "python",
   "nbconvert_exporter": "python",
   "pygments_lexer": "ipython3",
   "version": "3.8.5"
  }
 },
 "nbformat": 4,
 "nbformat_minor": 1
}
